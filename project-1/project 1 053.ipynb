{
 "cells": [
  {
   "cell_type": "code",
   "execution_count": 41,
   "id": "67df94c2",
   "metadata": {},
   "outputs": [],
   "source": [
    "import pandas as pd\n",
    "import numpy as np"
   ]
  },
  {
   "cell_type": "code",
   "execution_count": 42,
   "id": "ce45dbf7",
   "metadata": {},
   "outputs": [],
   "source": [
    "mydict = {'name':['Ade','Wale','Tade','Musa','Azeez','yomi','bello','yemi','ahmad','yusuf'],\n",
    "        'relationship':['Single','Single','married','single','single','single','married','married','married','married'],\n",
    "        'age':[25,30,34,23,43,24,25,34,42,21],\n",
    "        'department':['mrh','bch','ecn','cli','den','lang','nsc','geo','eee','mech']}"
   ]
  },
  {
   "cell_type": "code",
   "execution_count": 43,
   "id": "2ae07fd2",
   "metadata": {},
   "outputs": [],
   "source": [
    "mydict['cgpa'] = [2.0,3.4,5.0,5.0,3.8,5.0,5.0,4.9,3.4,4.9]\n"
   ]
  },
  {
   "cell_type": "code",
   "execution_count": 44,
   "id": "cdce339d",
   "metadata": {},
   "outputs": [
    {
     "data": {
      "text/plain": [
       "['Single',\n",
       " 'Single',\n",
       " 'married',\n",
       " 'single',\n",
       " 'single',\n",
       " 'single',\n",
       " 'married',\n",
       " 'married',\n",
       " 'married',\n",
       " 'married']"
      ]
     },
     "execution_count": 44,
     "metadata": {},
     "output_type": "execute_result"
    }
   ],
   "source": [
    "mydict.pop('relationship')"
   ]
  },
  {
   "cell_type": "code",
   "execution_count": 45,
   "id": "7559042e",
   "metadata": {},
   "outputs": [
    {
     "data": {
      "text/html": [
       "<div>\n",
       "<style scoped>\n",
       "    .dataframe tbody tr th:only-of-type {\n",
       "        vertical-align: middle;\n",
       "    }\n",
       "\n",
       "    .dataframe tbody tr th {\n",
       "        vertical-align: top;\n",
       "    }\n",
       "\n",
       "    .dataframe thead th {\n",
       "        text-align: right;\n",
       "    }\n",
       "</style>\n",
       "<table border=\"1\" class=\"dataframe\">\n",
       "  <thead>\n",
       "    <tr style=\"text-align: right;\">\n",
       "      <th></th>\n",
       "      <th>name</th>\n",
       "      <th>age</th>\n",
       "      <th>department</th>\n",
       "      <th>cgpa</th>\n",
       "    </tr>\n",
       "  </thead>\n",
       "  <tbody>\n",
       "    <tr>\n",
       "      <th>0</th>\n",
       "      <td>Ade</td>\n",
       "      <td>25</td>\n",
       "      <td>mrh</td>\n",
       "      <td>2.0</td>\n",
       "    </tr>\n",
       "    <tr>\n",
       "      <th>1</th>\n",
       "      <td>Wale</td>\n",
       "      <td>30</td>\n",
       "      <td>bch</td>\n",
       "      <td>3.4</td>\n",
       "    </tr>\n",
       "    <tr>\n",
       "      <th>2</th>\n",
       "      <td>Tade</td>\n",
       "      <td>34</td>\n",
       "      <td>ecn</td>\n",
       "      <td>5.0</td>\n",
       "    </tr>\n",
       "    <tr>\n",
       "      <th>3</th>\n",
       "      <td>Musa</td>\n",
       "      <td>23</td>\n",
       "      <td>cli</td>\n",
       "      <td>5.0</td>\n",
       "    </tr>\n",
       "    <tr>\n",
       "      <th>4</th>\n",
       "      <td>Azeez</td>\n",
       "      <td>43</td>\n",
       "      <td>den</td>\n",
       "      <td>3.8</td>\n",
       "    </tr>\n",
       "    <tr>\n",
       "      <th>5</th>\n",
       "      <td>yomi</td>\n",
       "      <td>24</td>\n",
       "      <td>lang</td>\n",
       "      <td>5.0</td>\n",
       "    </tr>\n",
       "    <tr>\n",
       "      <th>6</th>\n",
       "      <td>bello</td>\n",
       "      <td>25</td>\n",
       "      <td>nsc</td>\n",
       "      <td>5.0</td>\n",
       "    </tr>\n",
       "    <tr>\n",
       "      <th>7</th>\n",
       "      <td>yemi</td>\n",
       "      <td>34</td>\n",
       "      <td>geo</td>\n",
       "      <td>4.9</td>\n",
       "    </tr>\n",
       "    <tr>\n",
       "      <th>8</th>\n",
       "      <td>ahmad</td>\n",
       "      <td>42</td>\n",
       "      <td>eee</td>\n",
       "      <td>3.4</td>\n",
       "    </tr>\n",
       "    <tr>\n",
       "      <th>9</th>\n",
       "      <td>yusuf</td>\n",
       "      <td>21</td>\n",
       "      <td>mech</td>\n",
       "      <td>4.9</td>\n",
       "    </tr>\n",
       "  </tbody>\n",
       "</table>\n",
       "</div>"
      ],
      "text/plain": [
       "    name  age department  cgpa\n",
       "0    Ade   25        mrh   2.0\n",
       "1   Wale   30        bch   3.4\n",
       "2   Tade   34        ecn   5.0\n",
       "3   Musa   23        cli   5.0\n",
       "4  Azeez   43        den   3.8\n",
       "5   yomi   24       lang   5.0\n",
       "6  bello   25        nsc   5.0\n",
       "7   yemi   34        geo   4.9\n",
       "8  ahmad   42        eee   3.4\n",
       "9  yusuf   21       mech   4.9"
      ]
     },
     "execution_count": 45,
     "metadata": {},
     "output_type": "execute_result"
    }
   ],
   "source": [
    "df=pd.DataFrame(mydict)\n",
    "df"
   ]
  },
  {
   "cell_type": "code",
   "execution_count": 46,
   "id": "f2cf377e",
   "metadata": {},
   "outputs": [],
   "source": [
    "df['admission_date']=['2022-04-07','2022-04-07','2022-04-07', '2022-04-07','2022-04-07','2022-04-07','2022-04-07','2022-04-07','2022-04-07','2022-04-07']\n",
    "df['gender']=['M','M','M','M','M','M','M','M','M','M']"
   ]
  },
  {
   "cell_type": "code",
   "execution_count": 47,
   "id": "7309c0b6",
   "metadata": {},
   "outputs": [
    {
     "data": {
      "text/html": [
       "<div>\n",
       "<style scoped>\n",
       "    .dataframe tbody tr th:only-of-type {\n",
       "        vertical-align: middle;\n",
       "    }\n",
       "\n",
       "    .dataframe tbody tr th {\n",
       "        vertical-align: top;\n",
       "    }\n",
       "\n",
       "    .dataframe thead th {\n",
       "        text-align: right;\n",
       "    }\n",
       "</style>\n",
       "<table border=\"1\" class=\"dataframe\">\n",
       "  <thead>\n",
       "    <tr style=\"text-align: right;\">\n",
       "      <th></th>\n",
       "      <th>name</th>\n",
       "      <th>age</th>\n",
       "      <th>department</th>\n",
       "      <th>cgpa</th>\n",
       "      <th>admission_date</th>\n",
       "      <th>gender</th>\n",
       "    </tr>\n",
       "  </thead>\n",
       "  <tbody>\n",
       "    <tr>\n",
       "      <th>0</th>\n",
       "      <td>Ade</td>\n",
       "      <td>25</td>\n",
       "      <td>mrh</td>\n",
       "      <td>2.0</td>\n",
       "      <td>2022-04-07</td>\n",
       "      <td>M</td>\n",
       "    </tr>\n",
       "    <tr>\n",
       "      <th>1</th>\n",
       "      <td>Wale</td>\n",
       "      <td>30</td>\n",
       "      <td>bch</td>\n",
       "      <td>3.4</td>\n",
       "      <td>2022-04-07</td>\n",
       "      <td>M</td>\n",
       "    </tr>\n",
       "    <tr>\n",
       "      <th>2</th>\n",
       "      <td>Tade</td>\n",
       "      <td>34</td>\n",
       "      <td>ecn</td>\n",
       "      <td>5.0</td>\n",
       "      <td>2022-04-07</td>\n",
       "      <td>M</td>\n",
       "    </tr>\n",
       "    <tr>\n",
       "      <th>3</th>\n",
       "      <td>Musa</td>\n",
       "      <td>23</td>\n",
       "      <td>cli</td>\n",
       "      <td>5.0</td>\n",
       "      <td>2022-04-07</td>\n",
       "      <td>M</td>\n",
       "    </tr>\n",
       "    <tr>\n",
       "      <th>4</th>\n",
       "      <td>Azeez</td>\n",
       "      <td>43</td>\n",
       "      <td>den</td>\n",
       "      <td>3.8</td>\n",
       "      <td>2022-04-07</td>\n",
       "      <td>M</td>\n",
       "    </tr>\n",
       "    <tr>\n",
       "      <th>5</th>\n",
       "      <td>yomi</td>\n",
       "      <td>24</td>\n",
       "      <td>lang</td>\n",
       "      <td>5.0</td>\n",
       "      <td>2022-04-07</td>\n",
       "      <td>M</td>\n",
       "    </tr>\n",
       "    <tr>\n",
       "      <th>6</th>\n",
       "      <td>bello</td>\n",
       "      <td>25</td>\n",
       "      <td>nsc</td>\n",
       "      <td>5.0</td>\n",
       "      <td>2022-04-07</td>\n",
       "      <td>M</td>\n",
       "    </tr>\n",
       "    <tr>\n",
       "      <th>7</th>\n",
       "      <td>yemi</td>\n",
       "      <td>34</td>\n",
       "      <td>geo</td>\n",
       "      <td>4.9</td>\n",
       "      <td>2022-04-07</td>\n",
       "      <td>M</td>\n",
       "    </tr>\n",
       "    <tr>\n",
       "      <th>8</th>\n",
       "      <td>ahmad</td>\n",
       "      <td>42</td>\n",
       "      <td>eee</td>\n",
       "      <td>3.4</td>\n",
       "      <td>2022-04-07</td>\n",
       "      <td>M</td>\n",
       "    </tr>\n",
       "    <tr>\n",
       "      <th>9</th>\n",
       "      <td>yusuf</td>\n",
       "      <td>21</td>\n",
       "      <td>mech</td>\n",
       "      <td>4.9</td>\n",
       "      <td>2022-04-07</td>\n",
       "      <td>M</td>\n",
       "    </tr>\n",
       "  </tbody>\n",
       "</table>\n",
       "</div>"
      ],
      "text/plain": [
       "    name  age department  cgpa admission_date gender\n",
       "0    Ade   25        mrh   2.0     2022-04-07      M\n",
       "1   Wale   30        bch   3.4     2022-04-07      M\n",
       "2   Tade   34        ecn   5.0     2022-04-07      M\n",
       "3   Musa   23        cli   5.0     2022-04-07      M\n",
       "4  Azeez   43        den   3.8     2022-04-07      M\n",
       "5   yomi   24       lang   5.0     2022-04-07      M\n",
       "6  bello   25        nsc   5.0     2022-04-07      M\n",
       "7   yemi   34        geo   4.9     2022-04-07      M\n",
       "8  ahmad   42        eee   3.4     2022-04-07      M\n",
       "9  yusuf   21       mech   4.9     2022-04-07      M"
      ]
     },
     "execution_count": 47,
     "metadata": {},
     "output_type": "execute_result"
    }
   ],
   "source": [
    "df"
   ]
  },
  {
   "cell_type": "code",
   "execution_count": 48,
   "id": "26c920a2",
   "metadata": {},
   "outputs": [],
   "source": [
    "name =['Adewap','Walexy','shade','Isa','Azeezah','Temi','bello','yemi','bose','Biola']\n",
    "age =[20, 32, 24, 20, 23, 20, 20, 30, 22, 23]\n",
    "department =['mrh', 'bch', 'ecn', 'cli', 'den', 'lang', 'nsc', 'geo', 'eee', 'mech']\n",
    "cgpa = [3.0,2.4,4.0,4.0,3.5,5.0,5.0,3.9,3.4,2.9]\n",
    "admission_date =['2022-04-07','2022-04-07','2022-04-07', '2022-04-07','2022-04-07','2022-04-07','2022-04-07','2022-04-07','2022-04-07','2022-04-07']\n",
    "gender=['M','M','F','M','F','M','F','M','F','F']\n",
    "df2=pd.DataFrame({'Name':name,'Age':age, 'Department':department,'Cgpa':cgpa,'Admission_date':admission_date,'Gender':gender})"
   ]
  },
  {
   "cell_type": "code",
   "execution_count": 49,
   "id": "060a19f0",
   "metadata": {},
   "outputs": [
    {
     "data": {
      "text/html": [
       "<div>\n",
       "<style scoped>\n",
       "    .dataframe tbody tr th:only-of-type {\n",
       "        vertical-align: middle;\n",
       "    }\n",
       "\n",
       "    .dataframe tbody tr th {\n",
       "        vertical-align: top;\n",
       "    }\n",
       "\n",
       "    .dataframe thead th {\n",
       "        text-align: right;\n",
       "    }\n",
       "</style>\n",
       "<table border=\"1\" class=\"dataframe\">\n",
       "  <thead>\n",
       "    <tr style=\"text-align: right;\">\n",
       "      <th></th>\n",
       "      <th>Name</th>\n",
       "      <th>Age</th>\n",
       "      <th>Department</th>\n",
       "      <th>Cgpa</th>\n",
       "      <th>Admission_date</th>\n",
       "      <th>Gender</th>\n",
       "    </tr>\n",
       "  </thead>\n",
       "  <tbody>\n",
       "    <tr>\n",
       "      <th>0</th>\n",
       "      <td>Adewap</td>\n",
       "      <td>20</td>\n",
       "      <td>mrh</td>\n",
       "      <td>3.0</td>\n",
       "      <td>2022-04-07</td>\n",
       "      <td>M</td>\n",
       "    </tr>\n",
       "    <tr>\n",
       "      <th>1</th>\n",
       "      <td>Walexy</td>\n",
       "      <td>32</td>\n",
       "      <td>bch</td>\n",
       "      <td>2.4</td>\n",
       "      <td>2022-04-07</td>\n",
       "      <td>M</td>\n",
       "    </tr>\n",
       "    <tr>\n",
       "      <th>2</th>\n",
       "      <td>shade</td>\n",
       "      <td>24</td>\n",
       "      <td>ecn</td>\n",
       "      <td>4.0</td>\n",
       "      <td>2022-04-07</td>\n",
       "      <td>F</td>\n",
       "    </tr>\n",
       "    <tr>\n",
       "      <th>3</th>\n",
       "      <td>Isa</td>\n",
       "      <td>20</td>\n",
       "      <td>cli</td>\n",
       "      <td>4.0</td>\n",
       "      <td>2022-04-07</td>\n",
       "      <td>M</td>\n",
       "    </tr>\n",
       "    <tr>\n",
       "      <th>4</th>\n",
       "      <td>Azeezah</td>\n",
       "      <td>23</td>\n",
       "      <td>den</td>\n",
       "      <td>3.5</td>\n",
       "      <td>2022-04-07</td>\n",
       "      <td>F</td>\n",
       "    </tr>\n",
       "    <tr>\n",
       "      <th>5</th>\n",
       "      <td>Temi</td>\n",
       "      <td>20</td>\n",
       "      <td>lang</td>\n",
       "      <td>5.0</td>\n",
       "      <td>2022-04-07</td>\n",
       "      <td>M</td>\n",
       "    </tr>\n",
       "    <tr>\n",
       "      <th>6</th>\n",
       "      <td>bello</td>\n",
       "      <td>20</td>\n",
       "      <td>nsc</td>\n",
       "      <td>5.0</td>\n",
       "      <td>2022-04-07</td>\n",
       "      <td>F</td>\n",
       "    </tr>\n",
       "    <tr>\n",
       "      <th>7</th>\n",
       "      <td>yemi</td>\n",
       "      <td>30</td>\n",
       "      <td>geo</td>\n",
       "      <td>3.9</td>\n",
       "      <td>2022-04-07</td>\n",
       "      <td>M</td>\n",
       "    </tr>\n",
       "    <tr>\n",
       "      <th>8</th>\n",
       "      <td>bose</td>\n",
       "      <td>22</td>\n",
       "      <td>eee</td>\n",
       "      <td>3.4</td>\n",
       "      <td>2022-04-07</td>\n",
       "      <td>F</td>\n",
       "    </tr>\n",
       "    <tr>\n",
       "      <th>9</th>\n",
       "      <td>Biola</td>\n",
       "      <td>23</td>\n",
       "      <td>mech</td>\n",
       "      <td>2.9</td>\n",
       "      <td>2022-04-07</td>\n",
       "      <td>F</td>\n",
       "    </tr>\n",
       "  </tbody>\n",
       "</table>\n",
       "</div>"
      ],
      "text/plain": [
       "      Name  Age Department  Cgpa Admission_date Gender\n",
       "0   Adewap   20        mrh   3.0     2022-04-07      M\n",
       "1   Walexy   32        bch   2.4     2022-04-07      M\n",
       "2    shade   24        ecn   4.0     2022-04-07      F\n",
       "3      Isa   20        cli   4.0     2022-04-07      M\n",
       "4  Azeezah   23        den   3.5     2022-04-07      F\n",
       "5     Temi   20       lang   5.0     2022-04-07      M\n",
       "6    bello   20        nsc   5.0     2022-04-07      F\n",
       "7     yemi   30        geo   3.9     2022-04-07      M\n",
       "8     bose   22        eee   3.4     2022-04-07      F\n",
       "9    Biola   23       mech   2.9     2022-04-07      F"
      ]
     },
     "execution_count": 49,
     "metadata": {},
     "output_type": "execute_result"
    }
   ],
   "source": [
    "df2"
   ]
  },
  {
   "cell_type": "code",
   "execution_count": 50,
   "id": "9f2451c0",
   "metadata": {},
   "outputs": [
    {
     "data": {
      "text/plain": [
       "name                      object\n",
       "age                        int64\n",
       "department                object\n",
       "cgpa                     float64\n",
       "admission_date    datetime64[ns]\n",
       "gender                    object\n",
       "dtype: object"
      ]
     },
     "execution_count": 50,
     "metadata": {},
     "output_type": "execute_result"
    }
   ],
   "source": [
    "df['admission_date'] = pd.to_datetime(df['admission_date'])\n",
    "df.dtypes\n"
   ]
  },
  {
   "cell_type": "code",
   "execution_count": 52,
   "id": "dfea7925",
   "metadata": {},
   "outputs": [
    {
     "data": {
      "text/html": [
       "<div>\n",
       "<style scoped>\n",
       "    .dataframe tbody tr th:only-of-type {\n",
       "        vertical-align: middle;\n",
       "    }\n",
       "\n",
       "    .dataframe tbody tr th {\n",
       "        vertical-align: top;\n",
       "    }\n",
       "\n",
       "    .dataframe thead th {\n",
       "        text-align: right;\n",
       "    }\n",
       "</style>\n",
       "<table border=\"1\" class=\"dataframe\">\n",
       "  <thead>\n",
       "    <tr style=\"text-align: right;\">\n",
       "      <th></th>\n",
       "      <th>name</th>\n",
       "      <th>age</th>\n",
       "      <th>department</th>\n",
       "      <th>cgpa</th>\n",
       "      <th>admission_date</th>\n",
       "      <th>gender</th>\n",
       "      <th>year</th>\n",
       "    </tr>\n",
       "  </thead>\n",
       "  <tbody>\n",
       "    <tr>\n",
       "      <th>0</th>\n",
       "      <td>Ade</td>\n",
       "      <td>25</td>\n",
       "      <td>mrh</td>\n",
       "      <td>2.0</td>\n",
       "      <td>2022-04-07</td>\n",
       "      <td>M</td>\n",
       "      <td>2022</td>\n",
       "    </tr>\n",
       "    <tr>\n",
       "      <th>1</th>\n",
       "      <td>Wale</td>\n",
       "      <td>30</td>\n",
       "      <td>bch</td>\n",
       "      <td>3.4</td>\n",
       "      <td>2022-04-07</td>\n",
       "      <td>M</td>\n",
       "      <td>2022</td>\n",
       "    </tr>\n",
       "    <tr>\n",
       "      <th>2</th>\n",
       "      <td>Tade</td>\n",
       "      <td>34</td>\n",
       "      <td>ecn</td>\n",
       "      <td>5.0</td>\n",
       "      <td>2022-04-07</td>\n",
       "      <td>M</td>\n",
       "      <td>2022</td>\n",
       "    </tr>\n",
       "    <tr>\n",
       "      <th>3</th>\n",
       "      <td>Musa</td>\n",
       "      <td>23</td>\n",
       "      <td>cli</td>\n",
       "      <td>5.0</td>\n",
       "      <td>2022-04-07</td>\n",
       "      <td>M</td>\n",
       "      <td>2022</td>\n",
       "    </tr>\n",
       "    <tr>\n",
       "      <th>4</th>\n",
       "      <td>Azeez</td>\n",
       "      <td>43</td>\n",
       "      <td>den</td>\n",
       "      <td>3.8</td>\n",
       "      <td>2022-04-07</td>\n",
       "      <td>M</td>\n",
       "      <td>2022</td>\n",
       "    </tr>\n",
       "    <tr>\n",
       "      <th>5</th>\n",
       "      <td>yomi</td>\n",
       "      <td>24</td>\n",
       "      <td>lang</td>\n",
       "      <td>5.0</td>\n",
       "      <td>2022-04-07</td>\n",
       "      <td>M</td>\n",
       "      <td>2022</td>\n",
       "    </tr>\n",
       "    <tr>\n",
       "      <th>6</th>\n",
       "      <td>bello</td>\n",
       "      <td>25</td>\n",
       "      <td>nsc</td>\n",
       "      <td>5.0</td>\n",
       "      <td>2022-04-07</td>\n",
       "      <td>M</td>\n",
       "      <td>2022</td>\n",
       "    </tr>\n",
       "    <tr>\n",
       "      <th>7</th>\n",
       "      <td>yemi</td>\n",
       "      <td>34</td>\n",
       "      <td>geo</td>\n",
       "      <td>4.9</td>\n",
       "      <td>2022-04-07</td>\n",
       "      <td>M</td>\n",
       "      <td>2022</td>\n",
       "    </tr>\n",
       "    <tr>\n",
       "      <th>8</th>\n",
       "      <td>ahmad</td>\n",
       "      <td>42</td>\n",
       "      <td>eee</td>\n",
       "      <td>3.4</td>\n",
       "      <td>2022-04-07</td>\n",
       "      <td>M</td>\n",
       "      <td>2022</td>\n",
       "    </tr>\n",
       "    <tr>\n",
       "      <th>9</th>\n",
       "      <td>yusuf</td>\n",
       "      <td>21</td>\n",
       "      <td>mech</td>\n",
       "      <td>4.9</td>\n",
       "      <td>2022-04-07</td>\n",
       "      <td>M</td>\n",
       "      <td>2022</td>\n",
       "    </tr>\n",
       "  </tbody>\n",
       "</table>\n",
       "</div>"
      ],
      "text/plain": [
       "    name  age department  cgpa admission_date gender  year\n",
       "0    Ade   25        mrh   2.0     2022-04-07      M  2022\n",
       "1   Wale   30        bch   3.4     2022-04-07      M  2022\n",
       "2   Tade   34        ecn   5.0     2022-04-07      M  2022\n",
       "3   Musa   23        cli   5.0     2022-04-07      M  2022\n",
       "4  Azeez   43        den   3.8     2022-04-07      M  2022\n",
       "5   yomi   24       lang   5.0     2022-04-07      M  2022\n",
       "6  bello   25        nsc   5.0     2022-04-07      M  2022\n",
       "7   yemi   34        geo   4.9     2022-04-07      M  2022\n",
       "8  ahmad   42        eee   3.4     2022-04-07      M  2022\n",
       "9  yusuf   21       mech   4.9     2022-04-07      M  2022"
      ]
     },
     "execution_count": 52,
     "metadata": {},
     "output_type": "execute_result"
    }
   ],
   "source": [
    "df['year']= df['admission_date'].dt.year\n",
    "df"
   ]
  },
  {
   "cell_type": "code",
   "execution_count": 53,
   "id": "c5959f0f",
   "metadata": {},
   "outputs": [
    {
     "data": {
      "text/html": [
       "<div>\n",
       "<style scoped>\n",
       "    .dataframe tbody tr th:only-of-type {\n",
       "        vertical-align: middle;\n",
       "    }\n",
       "\n",
       "    .dataframe tbody tr th {\n",
       "        vertical-align: top;\n",
       "    }\n",
       "\n",
       "    .dataframe thead th {\n",
       "        text-align: right;\n",
       "    }\n",
       "</style>\n",
       "<table border=\"1\" class=\"dataframe\">\n",
       "  <thead>\n",
       "    <tr style=\"text-align: right;\">\n",
       "      <th></th>\n",
       "      <th>name</th>\n",
       "      <th>age</th>\n",
       "      <th>department</th>\n",
       "      <th>cgpa</th>\n",
       "      <th>admission_date</th>\n",
       "      <th>gender</th>\n",
       "      <th>year</th>\n",
       "      <th>month</th>\n",
       "    </tr>\n",
       "  </thead>\n",
       "  <tbody>\n",
       "    <tr>\n",
       "      <th>0</th>\n",
       "      <td>Ade</td>\n",
       "      <td>25</td>\n",
       "      <td>mrh</td>\n",
       "      <td>2.0</td>\n",
       "      <td>2022-04-07</td>\n",
       "      <td>M</td>\n",
       "      <td>2022</td>\n",
       "      <td>4</td>\n",
       "    </tr>\n",
       "    <tr>\n",
       "      <th>1</th>\n",
       "      <td>Wale</td>\n",
       "      <td>30</td>\n",
       "      <td>bch</td>\n",
       "      <td>3.4</td>\n",
       "      <td>2022-04-07</td>\n",
       "      <td>M</td>\n",
       "      <td>2022</td>\n",
       "      <td>4</td>\n",
       "    </tr>\n",
       "    <tr>\n",
       "      <th>2</th>\n",
       "      <td>Tade</td>\n",
       "      <td>34</td>\n",
       "      <td>ecn</td>\n",
       "      <td>5.0</td>\n",
       "      <td>2022-04-07</td>\n",
       "      <td>M</td>\n",
       "      <td>2022</td>\n",
       "      <td>4</td>\n",
       "    </tr>\n",
       "    <tr>\n",
       "      <th>3</th>\n",
       "      <td>Musa</td>\n",
       "      <td>23</td>\n",
       "      <td>cli</td>\n",
       "      <td>5.0</td>\n",
       "      <td>2022-04-07</td>\n",
       "      <td>M</td>\n",
       "      <td>2022</td>\n",
       "      <td>4</td>\n",
       "    </tr>\n",
       "    <tr>\n",
       "      <th>4</th>\n",
       "      <td>Azeez</td>\n",
       "      <td>43</td>\n",
       "      <td>den</td>\n",
       "      <td>3.8</td>\n",
       "      <td>2022-04-07</td>\n",
       "      <td>M</td>\n",
       "      <td>2022</td>\n",
       "      <td>4</td>\n",
       "    </tr>\n",
       "    <tr>\n",
       "      <th>5</th>\n",
       "      <td>yomi</td>\n",
       "      <td>24</td>\n",
       "      <td>lang</td>\n",
       "      <td>5.0</td>\n",
       "      <td>2022-04-07</td>\n",
       "      <td>M</td>\n",
       "      <td>2022</td>\n",
       "      <td>4</td>\n",
       "    </tr>\n",
       "    <tr>\n",
       "      <th>6</th>\n",
       "      <td>bello</td>\n",
       "      <td>25</td>\n",
       "      <td>nsc</td>\n",
       "      <td>5.0</td>\n",
       "      <td>2022-04-07</td>\n",
       "      <td>M</td>\n",
       "      <td>2022</td>\n",
       "      <td>4</td>\n",
       "    </tr>\n",
       "    <tr>\n",
       "      <th>7</th>\n",
       "      <td>yemi</td>\n",
       "      <td>34</td>\n",
       "      <td>geo</td>\n",
       "      <td>4.9</td>\n",
       "      <td>2022-04-07</td>\n",
       "      <td>M</td>\n",
       "      <td>2022</td>\n",
       "      <td>4</td>\n",
       "    </tr>\n",
       "    <tr>\n",
       "      <th>8</th>\n",
       "      <td>ahmad</td>\n",
       "      <td>42</td>\n",
       "      <td>eee</td>\n",
       "      <td>3.4</td>\n",
       "      <td>2022-04-07</td>\n",
       "      <td>M</td>\n",
       "      <td>2022</td>\n",
       "      <td>4</td>\n",
       "    </tr>\n",
       "    <tr>\n",
       "      <th>9</th>\n",
       "      <td>yusuf</td>\n",
       "      <td>21</td>\n",
       "      <td>mech</td>\n",
       "      <td>4.9</td>\n",
       "      <td>2022-04-07</td>\n",
       "      <td>M</td>\n",
       "      <td>2022</td>\n",
       "      <td>4</td>\n",
       "    </tr>\n",
       "  </tbody>\n",
       "</table>\n",
       "</div>"
      ],
      "text/plain": [
       "    name  age department  cgpa admission_date gender  year  month\n",
       "0    Ade   25        mrh   2.0     2022-04-07      M  2022      4\n",
       "1   Wale   30        bch   3.4     2022-04-07      M  2022      4\n",
       "2   Tade   34        ecn   5.0     2022-04-07      M  2022      4\n",
       "3   Musa   23        cli   5.0     2022-04-07      M  2022      4\n",
       "4  Azeez   43        den   3.8     2022-04-07      M  2022      4\n",
       "5   yomi   24       lang   5.0     2022-04-07      M  2022      4\n",
       "6  bello   25        nsc   5.0     2022-04-07      M  2022      4\n",
       "7   yemi   34        geo   4.9     2022-04-07      M  2022      4\n",
       "8  ahmad   42        eee   3.4     2022-04-07      M  2022      4\n",
       "9  yusuf   21       mech   4.9     2022-04-07      M  2022      4"
      ]
     },
     "execution_count": 53,
     "metadata": {},
     "output_type": "execute_result"
    }
   ],
   "source": [
    "df['month']= df['admission_date'].dt.month\n",
    "df"
   ]
  },
  {
   "cell_type": "code",
   "execution_count": 54,
   "id": "56b2a7ad",
   "metadata": {},
   "outputs": [
    {
     "data": {
      "text/html": [
       "<div>\n",
       "<style scoped>\n",
       "    .dataframe tbody tr th:only-of-type {\n",
       "        vertical-align: middle;\n",
       "    }\n",
       "\n",
       "    .dataframe tbody tr th {\n",
       "        vertical-align: top;\n",
       "    }\n",
       "\n",
       "    .dataframe thead th {\n",
       "        text-align: right;\n",
       "    }\n",
       "</style>\n",
       "<table border=\"1\" class=\"dataframe\">\n",
       "  <thead>\n",
       "    <tr style=\"text-align: right;\">\n",
       "      <th></th>\n",
       "      <th>name</th>\n",
       "      <th>age</th>\n",
       "      <th>department</th>\n",
       "      <th>cgpa</th>\n",
       "      <th>admission_date</th>\n",
       "      <th>gender</th>\n",
       "      <th>year</th>\n",
       "      <th>month</th>\n",
       "      <th>day</th>\n",
       "    </tr>\n",
       "  </thead>\n",
       "  <tbody>\n",
       "    <tr>\n",
       "      <th>0</th>\n",
       "      <td>Ade</td>\n",
       "      <td>25</td>\n",
       "      <td>mrh</td>\n",
       "      <td>2.0</td>\n",
       "      <td>2022-04-07</td>\n",
       "      <td>M</td>\n",
       "      <td>2022</td>\n",
       "      <td>4</td>\n",
       "      <td>7</td>\n",
       "    </tr>\n",
       "    <tr>\n",
       "      <th>1</th>\n",
       "      <td>Wale</td>\n",
       "      <td>30</td>\n",
       "      <td>bch</td>\n",
       "      <td>3.4</td>\n",
       "      <td>2022-04-07</td>\n",
       "      <td>M</td>\n",
       "      <td>2022</td>\n",
       "      <td>4</td>\n",
       "      <td>7</td>\n",
       "    </tr>\n",
       "    <tr>\n",
       "      <th>2</th>\n",
       "      <td>Tade</td>\n",
       "      <td>34</td>\n",
       "      <td>ecn</td>\n",
       "      <td>5.0</td>\n",
       "      <td>2022-04-07</td>\n",
       "      <td>M</td>\n",
       "      <td>2022</td>\n",
       "      <td>4</td>\n",
       "      <td>7</td>\n",
       "    </tr>\n",
       "    <tr>\n",
       "      <th>3</th>\n",
       "      <td>Musa</td>\n",
       "      <td>23</td>\n",
       "      <td>cli</td>\n",
       "      <td>5.0</td>\n",
       "      <td>2022-04-07</td>\n",
       "      <td>M</td>\n",
       "      <td>2022</td>\n",
       "      <td>4</td>\n",
       "      <td>7</td>\n",
       "    </tr>\n",
       "    <tr>\n",
       "      <th>4</th>\n",
       "      <td>Azeez</td>\n",
       "      <td>43</td>\n",
       "      <td>den</td>\n",
       "      <td>3.8</td>\n",
       "      <td>2022-04-07</td>\n",
       "      <td>M</td>\n",
       "      <td>2022</td>\n",
       "      <td>4</td>\n",
       "      <td>7</td>\n",
       "    </tr>\n",
       "    <tr>\n",
       "      <th>5</th>\n",
       "      <td>yomi</td>\n",
       "      <td>24</td>\n",
       "      <td>lang</td>\n",
       "      <td>5.0</td>\n",
       "      <td>2022-04-07</td>\n",
       "      <td>M</td>\n",
       "      <td>2022</td>\n",
       "      <td>4</td>\n",
       "      <td>7</td>\n",
       "    </tr>\n",
       "    <tr>\n",
       "      <th>6</th>\n",
       "      <td>bello</td>\n",
       "      <td>25</td>\n",
       "      <td>nsc</td>\n",
       "      <td>5.0</td>\n",
       "      <td>2022-04-07</td>\n",
       "      <td>M</td>\n",
       "      <td>2022</td>\n",
       "      <td>4</td>\n",
       "      <td>7</td>\n",
       "    </tr>\n",
       "    <tr>\n",
       "      <th>7</th>\n",
       "      <td>yemi</td>\n",
       "      <td>34</td>\n",
       "      <td>geo</td>\n",
       "      <td>4.9</td>\n",
       "      <td>2022-04-07</td>\n",
       "      <td>M</td>\n",
       "      <td>2022</td>\n",
       "      <td>4</td>\n",
       "      <td>7</td>\n",
       "    </tr>\n",
       "    <tr>\n",
       "      <th>8</th>\n",
       "      <td>ahmad</td>\n",
       "      <td>42</td>\n",
       "      <td>eee</td>\n",
       "      <td>3.4</td>\n",
       "      <td>2022-04-07</td>\n",
       "      <td>M</td>\n",
       "      <td>2022</td>\n",
       "      <td>4</td>\n",
       "      <td>7</td>\n",
       "    </tr>\n",
       "    <tr>\n",
       "      <th>9</th>\n",
       "      <td>yusuf</td>\n",
       "      <td>21</td>\n",
       "      <td>mech</td>\n",
       "      <td>4.9</td>\n",
       "      <td>2022-04-07</td>\n",
       "      <td>M</td>\n",
       "      <td>2022</td>\n",
       "      <td>4</td>\n",
       "      <td>7</td>\n",
       "    </tr>\n",
       "  </tbody>\n",
       "</table>\n",
       "</div>"
      ],
      "text/plain": [
       "    name  age department  cgpa admission_date gender  year  month  day\n",
       "0    Ade   25        mrh   2.0     2022-04-07      M  2022      4    7\n",
       "1   Wale   30        bch   3.4     2022-04-07      M  2022      4    7\n",
       "2   Tade   34        ecn   5.0     2022-04-07      M  2022      4    7\n",
       "3   Musa   23        cli   5.0     2022-04-07      M  2022      4    7\n",
       "4  Azeez   43        den   3.8     2022-04-07      M  2022      4    7\n",
       "5   yomi   24       lang   5.0     2022-04-07      M  2022      4    7\n",
       "6  bello   25        nsc   5.0     2022-04-07      M  2022      4    7\n",
       "7   yemi   34        geo   4.9     2022-04-07      M  2022      4    7\n",
       "8  ahmad   42        eee   3.4     2022-04-07      M  2022      4    7\n",
       "9  yusuf   21       mech   4.9     2022-04-07      M  2022      4    7"
      ]
     },
     "execution_count": 54,
     "metadata": {},
     "output_type": "execute_result"
    }
   ],
   "source": [
    "df['day']= df['admission_date'].dt.day\n",
    "df"
   ]
  },
  {
   "cell_type": "code",
   "execution_count": 55,
   "id": "e1e9b4f3",
   "metadata": {},
   "outputs": [
    {
     "data": {
      "text/plain": [
       "name                      object\n",
       "age                        int64\n",
       "department                object\n",
       "cgpa                     float64\n",
       "admission_date    datetime64[ns]\n",
       "gender                    object\n",
       "year                       int64\n",
       "month                      int64\n",
       "day                        int64\n",
       "dtype: object"
      ]
     },
     "execution_count": 55,
     "metadata": {},
     "output_type": "execute_result"
    }
   ],
   "source": [
    "#datatype of all columns\n",
    "\n",
    "df.dtypes"
   ]
  },
  {
   "cell_type": "code",
   "execution_count": 56,
   "id": "124e07f2",
   "metadata": {},
   "outputs": [
    {
     "data": {
      "text/plain": [
       "name              0\n",
       "age               0\n",
       "department        0\n",
       "cgpa              0\n",
       "admission_date    0\n",
       "gender            0\n",
       "year              0\n",
       "month             0\n",
       "day               0\n",
       "dtype: int64"
      ]
     },
     "execution_count": 56,
     "metadata": {},
     "output_type": "execute_result"
    }
   ],
   "source": [
    "#missing value\n",
    "df.isna().sum()"
   ]
  },
  {
   "cell_type": "code",
   "execution_count": 57,
   "id": "3fb1ae34",
   "metadata": {},
   "outputs": [
    {
     "data": {
      "text/plain": [
       "name              False\n",
       "age               False\n",
       "department        False\n",
       "cgpa              False\n",
       "admission_date    False\n",
       "gender            False\n",
       "year              False\n",
       "month             False\n",
       "day               False\n",
       "dtype: bool"
      ]
     },
     "execution_count": 57,
     "metadata": {},
     "output_type": "execute_result"
    }
   ],
   "source": [
    "#missing value\n",
    "df.isnull().any()"
   ]
  },
  {
   "cell_type": "code",
   "execution_count": 58,
   "id": "d02e24aa",
   "metadata": {},
   "outputs": [
    {
     "data": {
      "text/plain": [
       "name              0.0\n",
       "age               0.0\n",
       "department        0.0\n",
       "cgpa              0.0\n",
       "admission_date    0.0\n",
       "gender            0.0\n",
       "year              0.0\n",
       "month             0.0\n",
       "day               0.0\n",
       "dtype: float64"
      ]
     },
     "execution_count": 58,
     "metadata": {},
     "output_type": "execute_result"
    }
   ],
   "source": [
    "#%of missing value\n",
    "df.isnull().sum()/df.shape[0]*100"
   ]
  },
  {
   "cell_type": "code",
   "execution_count": 59,
   "id": "a6b96839",
   "metadata": {},
   "outputs": [
    {
     "data": {
      "text/plain": [
       "array(['Ade', 'Wale', 'Tade', 'Musa', 'Azeez', 'yomi', 'bello', 'yemi',\n",
       "       'ahmad', 'yusuf'], dtype=object)"
      ]
     },
     "execution_count": 59,
     "metadata": {},
     "output_type": "execute_result"
    }
   ],
   "source": [
    "#unique values\n",
    "\n",
    "df.name.unique()"
   ]
  },
  {
   "cell_type": "code",
   "execution_count": 60,
   "id": "105da6c8",
   "metadata": {},
   "outputs": [
    {
     "data": {
      "text/plain": [
       "array([25, 30, 34, 23, 43, 24, 42, 21], dtype=int64)"
      ]
     },
     "execution_count": 60,
     "metadata": {},
     "output_type": "execute_result"
    }
   ],
   "source": [
    "df.age.unique()"
   ]
  },
  {
   "cell_type": "code",
   "execution_count": 61,
   "id": "84fab636",
   "metadata": {},
   "outputs": [
    {
     "data": {
      "text/plain": [
       "array(['mrh', 'bch', 'ecn', 'cli', 'den', 'lang', 'nsc', 'geo', 'eee',\n",
       "       'mech'], dtype=object)"
      ]
     },
     "execution_count": 61,
     "metadata": {},
     "output_type": "execute_result"
    }
   ],
   "source": [
    "df.department.unique()"
   ]
  },
  {
   "cell_type": "code",
   "execution_count": 63,
   "id": "ad3876ba",
   "metadata": {},
   "outputs": [
    {
     "data": {
      "text/plain": [
       "array([2. , 3.4, 5. , 3.8, 4.9])"
      ]
     },
     "execution_count": 63,
     "metadata": {},
     "output_type": "execute_result"
    }
   ],
   "source": [
    "df.cgpa.unique()"
   ]
  },
  {
   "cell_type": "code",
   "execution_count": 65,
   "id": "4da3b0b6",
   "metadata": {},
   "outputs": [
    {
     "data": {
      "text/plain": [
       "array(['2022-04-07T00:00:00.000000000'], dtype='datetime64[ns]')"
      ]
     },
     "execution_count": 65,
     "metadata": {},
     "output_type": "execute_result"
    }
   ],
   "source": [
    "df.admission_date.unique()"
   ]
  },
  {
   "cell_type": "code",
   "execution_count": 66,
   "id": "5ec1e35f",
   "metadata": {},
   "outputs": [
    {
     "data": {
      "text/plain": [
       "array(['M'], dtype=object)"
      ]
     },
     "execution_count": 66,
     "metadata": {},
     "output_type": "execute_result"
    }
   ],
   "source": [
    "df.gender.unique()"
   ]
  },
  {
   "cell_type": "code",
   "execution_count": 67,
   "id": "262c35e6",
   "metadata": {},
   "outputs": [
    {
     "data": {
      "text/plain": [
       "10"
      ]
     },
     "execution_count": 67,
     "metadata": {},
     "output_type": "execute_result"
    }
   ],
   "source": [
    "#no of unique values\n",
    "df.name.nunique()\n"
   ]
  },
  {
   "cell_type": "code",
   "execution_count": 68,
   "id": "e8912845",
   "metadata": {},
   "outputs": [
    {
     "data": {
      "text/plain": [
       "8"
      ]
     },
     "execution_count": 68,
     "metadata": {},
     "output_type": "execute_result"
    }
   ],
   "source": [
    "df.age.nunique()"
   ]
  },
  {
   "cell_type": "code",
   "execution_count": 69,
   "id": "ebf024f9",
   "metadata": {},
   "outputs": [
    {
     "data": {
      "text/plain": [
       "10"
      ]
     },
     "execution_count": 69,
     "metadata": {},
     "output_type": "execute_result"
    }
   ],
   "source": [
    "df.department.nunique()"
   ]
  },
  {
   "cell_type": "code",
   "execution_count": 70,
   "id": "f7f605af",
   "metadata": {},
   "outputs": [
    {
     "data": {
      "text/plain": [
       "5"
      ]
     },
     "execution_count": 70,
     "metadata": {},
     "output_type": "execute_result"
    }
   ],
   "source": [
    "df.cgpa.nunique()"
   ]
  },
  {
   "cell_type": "code",
   "execution_count": 71,
   "id": "23803269",
   "metadata": {},
   "outputs": [
    {
     "data": {
      "text/plain": [
       "1"
      ]
     },
     "execution_count": 71,
     "metadata": {},
     "output_type": "execute_result"
    }
   ],
   "source": [
    "df.admission_date.nunique()"
   ]
  },
  {
   "cell_type": "code",
   "execution_count": 72,
   "id": "4210f338",
   "metadata": {},
   "outputs": [
    {
     "data": {
      "text/plain": [
       "1"
      ]
     },
     "execution_count": 72,
     "metadata": {},
     "output_type": "execute_result"
    }
   ],
   "source": [
    "df.gender.nunique()"
   ]
  },
  {
   "cell_type": "code",
   "execution_count": 77,
   "id": "4156b6c4",
   "metadata": {},
   "outputs": [
    {
     "data": {
      "text/plain": [
       "Ade      1\n",
       "Wale     1\n",
       "Tade     1\n",
       "Musa     1\n",
       "Azeez    1\n",
       "yomi     1\n",
       "bello    1\n",
       "yemi     1\n",
       "ahmad    1\n",
       "yusuf    1\n",
       "Name: name, dtype: int64"
      ]
     },
     "execution_count": 77,
     "metadata": {},
     "output_type": "execute_result"
    }
   ],
   "source": [
    "#valuecounts\n",
    "\n",
    "\n",
    "df['name'].value_counts()"
   ]
  },
  {
   "cell_type": "code",
   "execution_count": 78,
   "id": "50c0c3a8",
   "metadata": {},
   "outputs": [
    {
     "data": {
      "text/plain": [
       "25    2\n",
       "34    2\n",
       "30    1\n",
       "23    1\n",
       "43    1\n",
       "24    1\n",
       "42    1\n",
       "21    1\n",
       "Name: age, dtype: int64"
      ]
     },
     "execution_count": 78,
     "metadata": {},
     "output_type": "execute_result"
    }
   ],
   "source": [
    "df['age'].value_counts()"
   ]
  },
  {
   "cell_type": "code",
   "execution_count": 79,
   "id": "ddfcec98",
   "metadata": {},
   "outputs": [
    {
     "data": {
      "text/plain": [
       "mrh     1\n",
       "bch     1\n",
       "ecn     1\n",
       "cli     1\n",
       "den     1\n",
       "lang    1\n",
       "nsc     1\n",
       "geo     1\n",
       "eee     1\n",
       "mech    1\n",
       "Name: department, dtype: int64"
      ]
     },
     "execution_count": 79,
     "metadata": {},
     "output_type": "execute_result"
    }
   ],
   "source": [
    "df['department'].value_counts()"
   ]
  },
  {
   "cell_type": "code",
   "execution_count": 80,
   "id": "b962c104",
   "metadata": {},
   "outputs": [
    {
     "data": {
      "text/plain": [
       "5.0    4\n",
       "3.4    2\n",
       "4.9    2\n",
       "2.0    1\n",
       "3.8    1\n",
       "Name: cgpa, dtype: int64"
      ]
     },
     "execution_count": 80,
     "metadata": {},
     "output_type": "execute_result"
    }
   ],
   "source": [
    "df['cgpa'].value_counts()"
   ]
  },
  {
   "cell_type": "code",
   "execution_count": 81,
   "id": "345539ad",
   "metadata": {},
   "outputs": [
    {
     "data": {
      "text/plain": [
       "2022-04-07    10\n",
       "Name: admission_date, dtype: int64"
      ]
     },
     "execution_count": 81,
     "metadata": {},
     "output_type": "execute_result"
    }
   ],
   "source": [
    "df['admission_date'].value_counts()"
   ]
  },
  {
   "cell_type": "code",
   "execution_count": 82,
   "id": "667240a4",
   "metadata": {},
   "outputs": [
    {
     "data": {
      "text/plain": [
       "M    10\n",
       "Name: gender, dtype: int64"
      ]
     },
     "execution_count": 82,
     "metadata": {},
     "output_type": "execute_result"
    }
   ],
   "source": [
    "df['gender'].value_counts()"
   ]
  },
  {
   "cell_type": "code",
   "execution_count": 84,
   "id": "d73833e6",
   "metadata": {},
   "outputs": [
    {
     "name": "stdout",
     "output_type": "stream",
     "text": [
      "<class 'pandas.core.frame.DataFrame'>\n",
      "RangeIndex: 10 entries, 0 to 9\n",
      "Data columns (total 9 columns):\n",
      " #   Column          Non-Null Count  Dtype         \n",
      "---  ------          --------------  -----         \n",
      " 0   name            10 non-null     object        \n",
      " 1   age             10 non-null     int64         \n",
      " 2   department      10 non-null     object        \n",
      " 3   cgpa            10 non-null     float64       \n",
      " 4   admission_date  10 non-null     datetime64[ns]\n",
      " 5   gender          10 non-null     object        \n",
      " 6   year            10 non-null     int64         \n",
      " 7   month           10 non-null     int64         \n",
      " 8   day             10 non-null     int64         \n",
      "dtypes: datetime64[ns](1), float64(1), int64(4), object(3)\n",
      "memory usage: 848.0+ bytes\n"
     ]
    }
   ],
   "source": [
    "#df.info\n",
    "df.info()"
   ]
  },
  {
   "cell_type": "code",
   "execution_count": 85,
   "id": "5f051406",
   "metadata": {},
   "outputs": [
    {
     "data": {
      "text/html": [
       "<div>\n",
       "<style scoped>\n",
       "    .dataframe tbody tr th:only-of-type {\n",
       "        vertical-align: middle;\n",
       "    }\n",
       "\n",
       "    .dataframe tbody tr th {\n",
       "        vertical-align: top;\n",
       "    }\n",
       "\n",
       "    .dataframe thead th {\n",
       "        text-align: right;\n",
       "    }\n",
       "</style>\n",
       "<table border=\"1\" class=\"dataframe\">\n",
       "  <thead>\n",
       "    <tr style=\"text-align: right;\">\n",
       "      <th></th>\n",
       "      <th>age</th>\n",
       "      <th>cgpa</th>\n",
       "      <th>year</th>\n",
       "      <th>month</th>\n",
       "      <th>day</th>\n",
       "    </tr>\n",
       "  </thead>\n",
       "  <tbody>\n",
       "    <tr>\n",
       "      <th>count</th>\n",
       "      <td>10.000000</td>\n",
       "      <td>10.000000</td>\n",
       "      <td>10.0</td>\n",
       "      <td>10.0</td>\n",
       "      <td>10.0</td>\n",
       "    </tr>\n",
       "    <tr>\n",
       "      <th>mean</th>\n",
       "      <td>30.100000</td>\n",
       "      <td>4.240000</td>\n",
       "      <td>2022.0</td>\n",
       "      <td>4.0</td>\n",
       "      <td>7.0</td>\n",
       "    </tr>\n",
       "    <tr>\n",
       "      <th>std</th>\n",
       "      <td>7.894442</td>\n",
       "      <td>1.043711</td>\n",
       "      <td>0.0</td>\n",
       "      <td>0.0</td>\n",
       "      <td>0.0</td>\n",
       "    </tr>\n",
       "    <tr>\n",
       "      <th>min</th>\n",
       "      <td>21.000000</td>\n",
       "      <td>2.000000</td>\n",
       "      <td>2022.0</td>\n",
       "      <td>4.0</td>\n",
       "      <td>7.0</td>\n",
       "    </tr>\n",
       "    <tr>\n",
       "      <th>25%</th>\n",
       "      <td>24.250000</td>\n",
       "      <td>3.500000</td>\n",
       "      <td>2022.0</td>\n",
       "      <td>4.0</td>\n",
       "      <td>7.0</td>\n",
       "    </tr>\n",
       "    <tr>\n",
       "      <th>50%</th>\n",
       "      <td>27.500000</td>\n",
       "      <td>4.900000</td>\n",
       "      <td>2022.0</td>\n",
       "      <td>4.0</td>\n",
       "      <td>7.0</td>\n",
       "    </tr>\n",
       "    <tr>\n",
       "      <th>75%</th>\n",
       "      <td>34.000000</td>\n",
       "      <td>5.000000</td>\n",
       "      <td>2022.0</td>\n",
       "      <td>4.0</td>\n",
       "      <td>7.0</td>\n",
       "    </tr>\n",
       "    <tr>\n",
       "      <th>max</th>\n",
       "      <td>43.000000</td>\n",
       "      <td>5.000000</td>\n",
       "      <td>2022.0</td>\n",
       "      <td>4.0</td>\n",
       "      <td>7.0</td>\n",
       "    </tr>\n",
       "  </tbody>\n",
       "</table>\n",
       "</div>"
      ],
      "text/plain": [
       "             age       cgpa    year  month   day\n",
       "count  10.000000  10.000000    10.0   10.0  10.0\n",
       "mean   30.100000   4.240000  2022.0    4.0   7.0\n",
       "std     7.894442   1.043711     0.0    0.0   0.0\n",
       "min    21.000000   2.000000  2022.0    4.0   7.0\n",
       "25%    24.250000   3.500000  2022.0    4.0   7.0\n",
       "50%    27.500000   4.900000  2022.0    4.0   7.0\n",
       "75%    34.000000   5.000000  2022.0    4.0   7.0\n",
       "max    43.000000   5.000000  2022.0    4.0   7.0"
      ]
     },
     "execution_count": 85,
     "metadata": {},
     "output_type": "execute_result"
    }
   ],
   "source": [
    "df.describe()"
   ]
  },
  {
   "cell_type": "code",
   "execution_count": null,
   "id": "f7a9cf5a",
   "metadata": {},
   "outputs": [],
   "source": [
    "#no of rows and columns"
   ]
  },
  {
   "cell_type": "code",
   "execution_count": 86,
   "id": "616fdd0a",
   "metadata": {},
   "outputs": [
    {
     "data": {
      "text/plain": [
       "10"
      ]
     },
     "execution_count": 86,
     "metadata": {},
     "output_type": "execute_result"
    }
   ],
   "source": [
    "#row\n",
    "\n",
    "df.shape[0]"
   ]
  },
  {
   "cell_type": "code",
   "execution_count": 87,
   "id": "b2da4944",
   "metadata": {},
   "outputs": [
    {
     "data": {
      "text/plain": [
       "9"
      ]
     },
     "execution_count": 87,
     "metadata": {},
     "output_type": "execute_result"
    }
   ],
   "source": [
    "#column\n",
    "\n",
    "df.shape[1]"
   ]
  },
  {
   "cell_type": "code",
   "execution_count": 89,
   "id": "35210cc0",
   "metadata": {},
   "outputs": [
    {
     "data": {
      "text/html": [
       "<div>\n",
       "<style scoped>\n",
       "    .dataframe tbody tr th:only-of-type {\n",
       "        vertical-align: middle;\n",
       "    }\n",
       "\n",
       "    .dataframe tbody tr th {\n",
       "        vertical-align: top;\n",
       "    }\n",
       "\n",
       "    .dataframe thead th {\n",
       "        text-align: right;\n",
       "    }\n",
       "</style>\n",
       "<table border=\"1\" class=\"dataframe\">\n",
       "  <thead>\n",
       "    <tr style=\"text-align: right;\">\n",
       "      <th></th>\n",
       "      <th>name</th>\n",
       "      <th>age</th>\n",
       "      <th>department</th>\n",
       "      <th>cgpa</th>\n",
       "      <th>admission_date</th>\n",
       "      <th>gender</th>\n",
       "      <th>year</th>\n",
       "      <th>month</th>\n",
       "      <th>day</th>\n",
       "    </tr>\n",
       "  </thead>\n",
       "  <tbody>\n",
       "    <tr>\n",
       "      <th>0</th>\n",
       "      <td>Ade</td>\n",
       "      <td>25</td>\n",
       "      <td>mrh</td>\n",
       "      <td>2.0</td>\n",
       "      <td>2022-04-07</td>\n",
       "      <td>M</td>\n",
       "      <td>2022</td>\n",
       "      <td>4</td>\n",
       "      <td>7</td>\n",
       "    </tr>\n",
       "    <tr>\n",
       "      <th>1</th>\n",
       "      <td>Wale</td>\n",
       "      <td>30</td>\n",
       "      <td>bch</td>\n",
       "      <td>3.4</td>\n",
       "      <td>2022-04-07</td>\n",
       "      <td>M</td>\n",
       "      <td>2022</td>\n",
       "      <td>4</td>\n",
       "      <td>7</td>\n",
       "    </tr>\n",
       "    <tr>\n",
       "      <th>2</th>\n",
       "      <td>Tade</td>\n",
       "      <td>34</td>\n",
       "      <td>ecn</td>\n",
       "      <td>5.0</td>\n",
       "      <td>2022-04-07</td>\n",
       "      <td>M</td>\n",
       "      <td>2022</td>\n",
       "      <td>4</td>\n",
       "      <td>7</td>\n",
       "    </tr>\n",
       "    <tr>\n",
       "      <th>3</th>\n",
       "      <td>Musa</td>\n",
       "      <td>23</td>\n",
       "      <td>cli</td>\n",
       "      <td>5.0</td>\n",
       "      <td>2022-04-07</td>\n",
       "      <td>M</td>\n",
       "      <td>2022</td>\n",
       "      <td>4</td>\n",
       "      <td>7</td>\n",
       "    </tr>\n",
       "    <tr>\n",
       "      <th>4</th>\n",
       "      <td>Azeez</td>\n",
       "      <td>43</td>\n",
       "      <td>den</td>\n",
       "      <td>3.8</td>\n",
       "      <td>2022-04-07</td>\n",
       "      <td>M</td>\n",
       "      <td>2022</td>\n",
       "      <td>4</td>\n",
       "      <td>7</td>\n",
       "    </tr>\n",
       "    <tr>\n",
       "      <th>5</th>\n",
       "      <td>yomi</td>\n",
       "      <td>24</td>\n",
       "      <td>lang</td>\n",
       "      <td>5.0</td>\n",
       "      <td>2022-04-07</td>\n",
       "      <td>M</td>\n",
       "      <td>2022</td>\n",
       "      <td>4</td>\n",
       "      <td>7</td>\n",
       "    </tr>\n",
       "    <tr>\n",
       "      <th>6</th>\n",
       "      <td>bello</td>\n",
       "      <td>25</td>\n",
       "      <td>nsc</td>\n",
       "      <td>5.0</td>\n",
       "      <td>2022-04-07</td>\n",
       "      <td>M</td>\n",
       "      <td>2022</td>\n",
       "      <td>4</td>\n",
       "      <td>7</td>\n",
       "    </tr>\n",
       "    <tr>\n",
       "      <th>7</th>\n",
       "      <td>yemi</td>\n",
       "      <td>34</td>\n",
       "      <td>geo</td>\n",
       "      <td>4.9</td>\n",
       "      <td>2022-04-07</td>\n",
       "      <td>M</td>\n",
       "      <td>2022</td>\n",
       "      <td>4</td>\n",
       "      <td>7</td>\n",
       "    </tr>\n",
       "    <tr>\n",
       "      <th>8</th>\n",
       "      <td>ahmad</td>\n",
       "      <td>42</td>\n",
       "      <td>eee</td>\n",
       "      <td>3.4</td>\n",
       "      <td>2022-04-07</td>\n",
       "      <td>M</td>\n",
       "      <td>2022</td>\n",
       "      <td>4</td>\n",
       "      <td>7</td>\n",
       "    </tr>\n",
       "    <tr>\n",
       "      <th>9</th>\n",
       "      <td>yusuf</td>\n",
       "      <td>21</td>\n",
       "      <td>mech</td>\n",
       "      <td>4.9</td>\n",
       "      <td>2022-04-07</td>\n",
       "      <td>M</td>\n",
       "      <td>2022</td>\n",
       "      <td>4</td>\n",
       "      <td>7</td>\n",
       "    </tr>\n",
       "  </tbody>\n",
       "</table>\n",
       "</div>"
      ],
      "text/plain": [
       "    name  age department  cgpa admission_date gender  year  month  day\n",
       "0    Ade   25        mrh   2.0     2022-04-07      M  2022      4    7\n",
       "1   Wale   30        bch   3.4     2022-04-07      M  2022      4    7\n",
       "2   Tade   34        ecn   5.0     2022-04-07      M  2022      4    7\n",
       "3   Musa   23        cli   5.0     2022-04-07      M  2022      4    7\n",
       "4  Azeez   43        den   3.8     2022-04-07      M  2022      4    7\n",
       "5   yomi   24       lang   5.0     2022-04-07      M  2022      4    7\n",
       "6  bello   25        nsc   5.0     2022-04-07      M  2022      4    7\n",
       "7   yemi   34        geo   4.9     2022-04-07      M  2022      4    7\n",
       "8  ahmad   42        eee   3.4     2022-04-07      M  2022      4    7\n",
       "9  yusuf   21       mech   4.9     2022-04-07      M  2022      4    7"
      ]
     },
     "execution_count": 89,
     "metadata": {},
     "output_type": "execute_result"
    }
   ],
   "source": [
    "df.query(\"gender=='M'\")"
   ]
  },
  {
   "cell_type": "code",
   "execution_count": 90,
   "id": "2e8b8389",
   "metadata": {},
   "outputs": [],
   "source": [
    "#mean,max,sum,min of cgpa"
   ]
  },
  {
   "cell_type": "code",
   "execution_count": 91,
   "id": "5aef2619",
   "metadata": {},
   "outputs": [
    {
     "data": {
      "text/plain": [
       "4.24"
      ]
     },
     "execution_count": 91,
     "metadata": {},
     "output_type": "execute_result"
    }
   ],
   "source": [
    "df['cgpa'].mean()"
   ]
  },
  {
   "cell_type": "code",
   "execution_count": 92,
   "id": "ce886010",
   "metadata": {},
   "outputs": [
    {
     "data": {
      "text/plain": [
       "5.0"
      ]
     },
     "execution_count": 92,
     "metadata": {},
     "output_type": "execute_result"
    }
   ],
   "source": [
    "df['cgpa'].max()"
   ]
  },
  {
   "cell_type": "code",
   "execution_count": 93,
   "id": "624d15b5",
   "metadata": {},
   "outputs": [
    {
     "data": {
      "text/plain": [
       "2.0"
      ]
     },
     "execution_count": 93,
     "metadata": {},
     "output_type": "execute_result"
    }
   ],
   "source": [
    "df['cgpa'].min()"
   ]
  },
  {
   "cell_type": "code",
   "execution_count": 94,
   "id": "cd8e921e",
   "metadata": {},
   "outputs": [
    {
     "data": {
      "text/plain": [
       "42.4"
      ]
     },
     "execution_count": 94,
     "metadata": {},
     "output_type": "execute_result"
    }
   ],
   "source": [
    "df['cgpa'].sum()"
   ]
  },
  {
   "cell_type": "code",
   "execution_count": 95,
   "id": "99ec6ba7",
   "metadata": {},
   "outputs": [
    {
     "data": {
      "text/html": [
       "<div>\n",
       "<style scoped>\n",
       "    .dataframe tbody tr th:only-of-type {\n",
       "        vertical-align: middle;\n",
       "    }\n",
       "\n",
       "    .dataframe tbody tr th {\n",
       "        vertical-align: top;\n",
       "    }\n",
       "\n",
       "    .dataframe thead th {\n",
       "        text-align: right;\n",
       "    }\n",
       "</style>\n",
       "<table border=\"1\" class=\"dataframe\">\n",
       "  <thead>\n",
       "    <tr style=\"text-align: right;\">\n",
       "      <th></th>\n",
       "      <th>name</th>\n",
       "      <th>age</th>\n",
       "      <th>department</th>\n",
       "      <th>cgpa</th>\n",
       "      <th>admission_date</th>\n",
       "      <th>gender</th>\n",
       "      <th>year</th>\n",
       "      <th>month</th>\n",
       "      <th>day</th>\n",
       "    </tr>\n",
       "  </thead>\n",
       "  <tbody>\n",
       "    <tr>\n",
       "      <th>0</th>\n",
       "      <td>Ade</td>\n",
       "      <td>25</td>\n",
       "      <td>mrh</td>\n",
       "      <td>2.0</td>\n",
       "      <td>2022-04-07</td>\n",
       "      <td>M</td>\n",
       "      <td>2022</td>\n",
       "      <td>4</td>\n",
       "      <td>7</td>\n",
       "    </tr>\n",
       "    <tr>\n",
       "      <th>1</th>\n",
       "      <td>Wale</td>\n",
       "      <td>30</td>\n",
       "      <td>bch</td>\n",
       "      <td>3.4</td>\n",
       "      <td>2022-04-07</td>\n",
       "      <td>M</td>\n",
       "      <td>2022</td>\n",
       "      <td>4</td>\n",
       "      <td>7</td>\n",
       "    </tr>\n",
       "    <tr>\n",
       "      <th>2</th>\n",
       "      <td>Tade</td>\n",
       "      <td>34</td>\n",
       "      <td>ecn</td>\n",
       "      <td>5.0</td>\n",
       "      <td>2022-04-07</td>\n",
       "      <td>M</td>\n",
       "      <td>2022</td>\n",
       "      <td>4</td>\n",
       "      <td>7</td>\n",
       "    </tr>\n",
       "    <tr>\n",
       "      <th>3</th>\n",
       "      <td>Musa</td>\n",
       "      <td>23</td>\n",
       "      <td>cli</td>\n",
       "      <td>5.0</td>\n",
       "      <td>2022-04-07</td>\n",
       "      <td>M</td>\n",
       "      <td>2022</td>\n",
       "      <td>4</td>\n",
       "      <td>7</td>\n",
       "    </tr>\n",
       "    <tr>\n",
       "      <th>4</th>\n",
       "      <td>Azeez</td>\n",
       "      <td>43</td>\n",
       "      <td>den</td>\n",
       "      <td>3.8</td>\n",
       "      <td>2022-04-07</td>\n",
       "      <td>M</td>\n",
       "      <td>2022</td>\n",
       "      <td>4</td>\n",
       "      <td>7</td>\n",
       "    </tr>\n",
       "    <tr>\n",
       "      <th>5</th>\n",
       "      <td>yomi</td>\n",
       "      <td>24</td>\n",
       "      <td>lang</td>\n",
       "      <td>5.0</td>\n",
       "      <td>2022-04-07</td>\n",
       "      <td>M</td>\n",
       "      <td>2022</td>\n",
       "      <td>4</td>\n",
       "      <td>7</td>\n",
       "    </tr>\n",
       "    <tr>\n",
       "      <th>6</th>\n",
       "      <td>bello</td>\n",
       "      <td>25</td>\n",
       "      <td>nsc</td>\n",
       "      <td>5.0</td>\n",
       "      <td>2022-04-07</td>\n",
       "      <td>M</td>\n",
       "      <td>2022</td>\n",
       "      <td>4</td>\n",
       "      <td>7</td>\n",
       "    </tr>\n",
       "    <tr>\n",
       "      <th>7</th>\n",
       "      <td>yemi</td>\n",
       "      <td>34</td>\n",
       "      <td>geo</td>\n",
       "      <td>4.9</td>\n",
       "      <td>2022-04-07</td>\n",
       "      <td>M</td>\n",
       "      <td>2022</td>\n",
       "      <td>4</td>\n",
       "      <td>7</td>\n",
       "    </tr>\n",
       "    <tr>\n",
       "      <th>8</th>\n",
       "      <td>ahmad</td>\n",
       "      <td>42</td>\n",
       "      <td>eee</td>\n",
       "      <td>3.4</td>\n",
       "      <td>2022-04-07</td>\n",
       "      <td>M</td>\n",
       "      <td>2022</td>\n",
       "      <td>4</td>\n",
       "      <td>7</td>\n",
       "    </tr>\n",
       "    <tr>\n",
       "      <th>9</th>\n",
       "      <td>yusuf</td>\n",
       "      <td>21</td>\n",
       "      <td>mech</td>\n",
       "      <td>4.9</td>\n",
       "      <td>2022-04-07</td>\n",
       "      <td>M</td>\n",
       "      <td>2022</td>\n",
       "      <td>4</td>\n",
       "      <td>7</td>\n",
       "    </tr>\n",
       "  </tbody>\n",
       "</table>\n",
       "</div>"
      ],
      "text/plain": [
       "    name  age department  cgpa admission_date gender  year  month  day\n",
       "0    Ade   25        mrh   2.0     2022-04-07      M  2022      4    7\n",
       "1   Wale   30        bch   3.4     2022-04-07      M  2022      4    7\n",
       "2   Tade   34        ecn   5.0     2022-04-07      M  2022      4    7\n",
       "3   Musa   23        cli   5.0     2022-04-07      M  2022      4    7\n",
       "4  Azeez   43        den   3.8     2022-04-07      M  2022      4    7\n",
       "5   yomi   24       lang   5.0     2022-04-07      M  2022      4    7\n",
       "6  bello   25        nsc   5.0     2022-04-07      M  2022      4    7\n",
       "7   yemi   34        geo   4.9     2022-04-07      M  2022      4    7\n",
       "8  ahmad   42        eee   3.4     2022-04-07      M  2022      4    7\n",
       "9  yusuf   21       mech   4.9     2022-04-07      M  2022      4    7"
      ]
     },
     "execution_count": 95,
     "metadata": {},
     "output_type": "execute_result"
    }
   ],
   "source": [
    "df"
   ]
  },
  {
   "cell_type": "code",
   "execution_count": 100,
   "id": "107eae90",
   "metadata": {},
   "outputs": [],
   "source": [
    "df.to_csv('project 1 053')"
   ]
  },
  {
   "cell_type": "code",
   "execution_count": null,
   "id": "f562cfbe",
   "metadata": {},
   "outputs": [],
   "source": []
  }
 ],
 "metadata": {
  "kernelspec": {
   "display_name": "Python 3 (ipykernel)",
   "language": "python",
   "name": "python3"
  },
  "language_info": {
   "codemirror_mode": {
    "name": "ipython",
    "version": 3
   },
   "file_extension": ".py",
   "mimetype": "text/x-python",
   "name": "python",
   "nbconvert_exporter": "python",
   "pygments_lexer": "ipython3",
   "version": "3.9.7"
  }
 },
 "nbformat": 4,
 "nbformat_minor": 5
}
